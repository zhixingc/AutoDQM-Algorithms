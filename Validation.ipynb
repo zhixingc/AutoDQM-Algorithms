{
 "cells": [
  {
   "cell_type": "code",
   "execution_count": 9,
   "metadata": {},
   "outputs": [],
   "source": [
    "import matplotlib.pyplot as plt\n",
    "from sklearn import metrics\n",
    "import numpy as np\n",
    "import pandas as pd\n",
    "import os\n",
    "import ROOT\n",
    "import uproot\n",
    "import uproot_methods\n",
    "from scipy import interpolate\n",
    "import matplotlib._color_data as mcd\n",
    "import matplotlib.patches as mpatch\n",
    "from scipy.optimize import curve_fit, fsolve\n",
    "from matplotlib.patches import Ellipse, Polygon\n",
    "import sys\n",
    "sys.path.append(\"../AutoDQM/CSC-DQM-ML-master/dqmml\")\n",
    "import glob\n",
    "import pickle\n",
    "import sklearn"
   ]
  },
  {
   "cell_type": "code",
   "execution_count": 10,
   "metadata": {},
   "outputs": [],
   "source": [
    "from modules.histCollection import HistCollection\n",
    "from modules.histCollection import HistCleaner\n",
    "from modules.dqmpca import DQMPCA"
   ]
  },
  {
   "cell_type": "code",
   "execution_count": 11,
   "metadata": {},
   "outputs": [],
   "source": [
    "runs_validate = []\n",
    "hists_validate = []\n",
    "year = 2018\n",
    "norm_cut = 10000\n",
    "max_bins = None\n",
    "title = None\n",
    "lumi_json = None\n",
    "pkl_dir=\"models/pca/CSC/{year}/\"\n",
    "pkl_dir = pkl_dir.format(year=year)\n",
    "plot = \"Segments/hSnSegments\"\n",
    "dname = plot.split('/')[0]\n",
    "hname = plot.split('/')[1]\n",
    "hpath = \"DQMData/Run {}/CSC/Run summary/CSCOfflineMonitor\"\n",
    "pkl_name = os.path.join(pkl_dir,\"{0}_{1}.pkl\".format(dname, hname))"
   ]
  },
  {
   "cell_type": "markdown",
   "metadata": {},
   "source": [
    "Load a previously compiled dataset or query "
   ]
  },
  {
   "cell_type": "code",
   "execution_count": null,
   "metadata": {},
   "outputs": [],
   "source": [
    "#runs_validate = np.load(\"runs_validate.npy\")\n",
    "#hists_validate = np.load(\"hists_validate.npy\",allow_pickle=True)"
   ]
  },
  {
   "cell_type": "code",
   "execution_count": 12,
   "metadata": {},
   "outputs": [],
   "source": [
    "if year ==2018:\n",
    "        fnamesD =glob.glob(\"/eos/cms/store/group/comm_dqm/DQMGUI_data/Run2018/SingleMuon/*/DQM_V0001_R000*__SingleMuon__Run2018D-PromptReco-v2__DQMIO.root\")\n",
    "        fnamesABC = glob.glob(\"/eos/cms/store/group/comm_dqm/DQMGUI_data/Run2018/SingleMuon/*/DQM_V0001_R000*__SingleMuon__Run2018*-17Sep2018-*__DQMIO.root\")\n",
    "        fnames= fnamesD +fnamesABC\n",
    "        \n",
    "if year ==2017:\n",
    "    fnames = []\n",
    "    fnames =glob.glob(\"/eos/cms/store/group/comm_dqm/DQMGUI_data/Run2017/SingleMuon/*/DQM_V0001_R000*__SingleMuon__Run2017*-17Nov2017-v1__DQMIO.root\")\n",
    "    \n",
    "if year ==2016:\n",
    "    fnames = glob.glob(\"/eos/cms/store/group/comm_dqm/DQMGUI_data/Run2016/SingleMuon/*/DQM_V0001_R000*__SingleMuon__Run2016*-21Feb2020_UL2016_HIPM-v1__DQMIO.root\")"
   ]
  },
  {
   "cell_type": "code",
   "execution_count": 13,
   "metadata": {},
   "outputs": [],
   "source": [
    "for fname in fnames:\n",
    "    run = int(fname.split(\"/\")[-1].split(\"__\")[0][-6:])\n",
    "    #Corrupted file\n",
    "    if run == 315267:\n",
    "        continue\n",
    "    f = uproot.open(fname)\n",
    "    #Fetch all the 1D histograms into a list\n",
    "    histograms =f[hpath.format(run)].allitems(filterclass=lambda cls: issubclass(cls, uproot_methods.classes.TH1.Methods))\n",
    "    for name, roothist in histograms:\n",
    "        name = name.decode(\"utf-8\")\n",
    "        name = name.replace(\";1\", \"\")\n",
    "        #Grab the 1D histogram we want\n",
    "        h = roothist.numpy()\n",
    "        #print(h)\n",
    "        if plot == name: \n",
    "            h = roothist.numpy()\n",
    "            #Include only histograms that have enough events\n",
    "            #if norm_cut is None or HistogramIntegral(h) >= norm_cut:\n",
    "            if max_bins==None:\n",
    "                nbins = len(h[0])\n",
    "            else:\n",
    "                nbins = min(len(h[0]), max_bins)\n",
    "            hists_validate.append(h)\n",
    "            runs_validate.append(run)"
   ]
  },
  {
   "cell_type": "markdown",
   "metadata": {},
   "source": [
    "Load the model for the histogram class"
   ]
  },
  {
   "cell_type": "code",
   "execution_count": 14,
   "metadata": {},
   "outputs": [],
   "source": [
    "possible_pickles = glob.glob(pkl_dir+\"{0}_{1}.pkl\".format(dname, hname))"
   ]
  },
  {
   "cell_type": "code",
   "execution_count": 15,
   "metadata": {},
   "outputs": [],
   "source": [
    "for pkl_name in possible_pickles:\n",
    "    with open(pkl_name, 'rb') as pickle_file:\n",
    "        pca_obj = pickle.load(pickle_file)"
   ]
  },
  {
   "cell_type": "code",
   "execution_count": 18,
   "metadata": {},
   "outputs": [],
   "source": [
    "#HistogramIntegral returns the total number of events\n",
    "def HistogramIntegral(hist):\n",
    "    return sum(hist[0][i] for i in range(len(hist[0])))"
   ]
  },
  {
   "cell_type": "code",
   "execution_count": 20,
   "metadata": {},
   "outputs": [],
   "source": [
    "def PCATest(np_data, pca_obj, n_components):\n",
    "\n",
    "    # Transform data in terms of principle component vectors\n",
    "    transf = pca_obj.transform(np_data.reshape(1,-1))\n",
    "    # Zero out components beyond n_components cap\n",
    "    transf[0,n_components:] *= 0\n",
    "    # Reconstruct data using N components\n",
    "    reco_data = pca_obj.inverse_transform(transf)\n",
    "    reco_data = reco_data.flatten()\n",
    "    # Get sum of squared errors\n",
    "    sse = np.sqrt(np.sum((reco_data - np_data)**2))\n",
    "\n",
    "    return sse, reco_data"
   ]
  },
  {
   "cell_type": "markdown",
   "metadata": {},
   "source": [
    "## Perturbation"
   ]
  },
  {
   "cell_type": "code",
   "execution_count": 16,
   "metadata": {},
   "outputs": [],
   "source": [
    "from copy import deepcopy\n",
    "import random\n",
    "def perturb_abnormal(hist):\n",
    "    count = 0\n",
    "    while True:\n",
    "        count +=1\n",
    "        i = random.choice(range(len(hist[0])))\n",
    "        if hist[0][i]>(HistogramIntegral(hist)*0.07):\n",
    "        #if hist[0][i]>0:\n",
    "            a = deepcopy(hist)\n",
    "            a[0][i]=0\n",
    "            return a\n",
    "        if count>20:\n",
    "            index = np.argmax(hist[0])\n",
    "            a = deepcopy(hist)\n",
    "            a[0][index]=0\n",
    "            return a\n",
    "        \n",
    "        \n",
    "def perturb_normal(hist):\n",
    "    while True:\n",
    "        i = random.choice(range(len(hist[0])))\n",
    "        a = deepcopy(hist)\n",
    "        a[0][i]=hist[0][i]*0.8\n",
    "        return a"
   ]
  },
  {
   "cell_type": "code",
   "execution_count": 21,
   "metadata": {},
   "outputs": [],
   "source": [
    "norm_with_perturb = [] #storing the histograms that have been perturbed and normalized  \n",
    "with_perturb = [] #storing the histograms that have been perturbed\n",
    "results = [] #PCA SSE results\n",
    "runs = []\n",
    "for i in range(len(hists_validate)):\n",
    "    n = hists_validate[i]\n",
    "    if HistogramIntegral(n)==0: #skip empty histograms\n",
    "        continue\n",
    "    with_perturb.append(n)\n",
    "    norm = np.multiply(n,1/HistogramIntegral(n))\n",
    "    x = perturb_normal(norm)[0]\n",
    "    y = perturb_abnormal(norm)[0]\n",
    "    n_components=3\n",
    "    sse1, x1 = PCATest(x, pca_obj, n_components)\n",
    "    norm_with_perturb.append(x)\n",
    "    results.append(sse1)\n",
    "    sse2, x2 = PCATest(y, pca_obj, n_components)\n",
    "    norm_with_perturb.append(y)\n",
    "    results.append(sse2)\n",
    "    runs.append(runs_validate[i])"
   ]
  },
  {
   "cell_type": "code",
   "execution_count": 22,
   "metadata": {},
   "outputs": [],
   "source": [
    "#Segment the results since all the even entries are normal perturbation and all the odd are abnormal perturbation\n",
    "norm_results =results[::2]\n",
    "abnorm_results =results[1::2]"
   ]
  },
  {
   "cell_type": "markdown",
   "metadata": {},
   "source": [
    "## Statistics for Confusion Matrix Given Threshold"
   ]
  },
  {
   "cell_type": "code",
   "execution_count": 27,
   "metadata": {},
   "outputs": [],
   "source": [
    "validate_true = []\n",
    "for n in norm_results:\n",
    "    if n<0.025:\n",
    "        validate_true.append(1)\n",
    "    else:\n",
    "        validate_true.append(0)"
   ]
  },
  {
   "cell_type": "code",
   "execution_count": 28,
   "metadata": {},
   "outputs": [],
   "source": [
    "validate_false = []\n",
    "for n in abnorm_results:\n",
    "    if n>=0.025:\n",
    "        validate_false.append(1)\n",
    "    else:\n",
    "        validate_false.append(0)"
   ]
  },
  {
   "cell_type": "code",
   "execution_count": 29,
   "metadata": {},
   "outputs": [
    {
     "data": {
      "text/plain": [
       "514"
      ]
     },
     "execution_count": 29,
     "metadata": {},
     "output_type": "execute_result"
    }
   ],
   "source": [
    "sum(validate_true)"
   ]
  },
  {
   "cell_type": "code",
   "execution_count": 30,
   "metadata": {},
   "outputs": [
    {
     "data": {
      "text/plain": [
       "596"
      ]
     },
     "execution_count": 30,
     "metadata": {},
     "output_type": "execute_result"
    }
   ],
   "source": [
    "len(validate_true)"
   ]
  },
  {
   "cell_type": "code",
   "execution_count": 31,
   "metadata": {},
   "outputs": [
    {
     "data": {
      "text/plain": [
       "596"
      ]
     },
     "execution_count": 31,
     "metadata": {},
     "output_type": "execute_result"
    }
   ],
   "source": [
    "sum(validate_false)"
   ]
  },
  {
   "cell_type": "code",
   "execution_count": 32,
   "metadata": {},
   "outputs": [
    {
     "data": {
      "text/plain": [
       "596"
      ]
     },
     "execution_count": 32,
     "metadata": {},
     "output_type": "execute_result"
    }
   ],
   "source": [
    "len(validate_false)"
   ]
  },
  {
   "cell_type": "code",
   "execution_count": 53,
   "metadata": {},
   "outputs": [],
   "source": [
    "false_positive = getIndex(validate_true,0)\n",
    "true_negative = getIndex(validate_false,0)"
   ]
  },
  {
   "cell_type": "markdown",
   "metadata": {},
   "source": [
    "### Adjusting Actual Normal Labels "
   ]
  },
  {
   "cell_type": "markdown",
   "metadata": {},
   "source": [
    "I wrote code for adjusting certain histogram's labels, though the graphs I've submitted/included before did not include this step (which could account for the high false positive)  \\\n",
    "**Jump to next section if no relabeling needed**"
   ]
  },
  {
   "cell_type": "code",
   "execution_count": null,
   "metadata": {},
   "outputs": [],
   "source": [
    "#storing the histogram integral of validation for double checking of true anomaly (for example, we may want to consider very low event data as abnormal, even though the perturbation is within normal range)\n",
    "validate_sum = []\n",
    "for n in with_perturb:\n",
    "    validate_sum.append(sum(n[0]))"
   ]
  },
  {
   "cell_type": "code",
   "execution_count": null,
   "metadata": {},
   "outputs": [],
   "source": [
    "validate_sum_norm = validate_sum[::2]"
   ]
  },
  {
   "cell_type": "code",
   "execution_count": null,
   "metadata": {},
   "outputs": [],
   "source": [
    "move_to_false_index= []"
   ]
  },
  {
   "cell_type": "code",
   "execution_count": null,
   "metadata": {},
   "outputs": [],
   "source": [
    "for i in range(len(validate_sum_norm)):\n",
    "    if validate_sum_norm[i] <10000:\n",
    "        move_to_false_index.append(i)"
   ]
  },
  {
   "cell_type": "code",
   "execution_count": 611,
   "metadata": {},
   "outputs": [],
   "source": [
    "norm_results = np.array(norm_results)\n",
    "move_to_false_results = norm_results[move_to_false_index]"
   ]
  },
  {
   "cell_type": "code",
   "execution_count": 612,
   "metadata": {},
   "outputs": [],
   "source": [
    "move_to_false_results = move_to_false_results.tolist()"
   ]
  },
  {
   "cell_type": "code",
   "execution_count": 614,
   "metadata": {},
   "outputs": [],
   "source": [
    "#Updated to be correct\n",
    "abnorm_results = abnorm_results+move_to_false_results"
   ]
  },
  {
   "cell_type": "code",
   "execution_count": 616,
   "metadata": {},
   "outputs": [],
   "source": [
    "norm_results = [x for i, x in enumerate(norm_results) if i not in move_to_false_index ]"
   ]
  },
  {
   "cell_type": "markdown",
   "metadata": {},
   "source": [
    "**Another type of relabeling**: tried to relabel based on false positives that have low events, though this could be too post-hoc; experts insighted needed for correct labeling"
   ]
  },
  {
   "cell_type": "code",
   "execution_count": 575,
   "metadata": {},
   "outputs": [],
   "source": [
    "validate_sum = np.array(validate_sum)\n",
    "validate_positive_sum = validate_sum[false_positive]"
   ]
  },
  {
   "cell_type": "code",
   "execution_count": 514,
   "metadata": {},
   "outputs": [],
   "source": [
    "runs = np.array(runs)"
   ]
  },
  {
   "cell_type": "code",
   "execution_count": 606,
   "metadata": {},
   "outputs": [],
   "source": [
    "a = np.array(validate_positive_sum)\n",
    "a = a<700\n",
    "b = [i for i, x in enumerate(a) if x]"
   ]
  },
  {
   "cell_type": "code",
   "execution_count": 609,
   "metadata": {},
   "outputs": [],
   "source": [
    "#index_to_move=false_positive[:10]+false_positive[-3:]\n",
    "index_to_move = b"
   ]
  },
  {
   "cell_type": "code",
   "execution_count": null,
   "metadata": {},
   "outputs": [],
   "source": [
    "move_to_false_index = index_to_move "
   ]
  },
  {
   "cell_type": "markdown",
   "metadata": {},
   "source": [
    "Repeat previous code for relabeling"
   ]
  },
  {
   "cell_type": "markdown",
   "metadata": {},
   "source": [
    "### ROC Curve"
   ]
  },
  {
   "cell_type": "code",
   "execution_count": 54,
   "metadata": {},
   "outputs": [],
   "source": [
    "label = [1]*len(abnorm_results)+ [0]*len(norm_results)"
   ]
  },
  {
   "cell_type": "code",
   "execution_count": 55,
   "metadata": {},
   "outputs": [],
   "source": [
    "y =  abnorm_results +norm_results "
   ]
  },
  {
   "cell_type": "code",
   "execution_count": 56,
   "metadata": {},
   "outputs": [],
   "source": [
    "fpr_rt_lm, tpr_rt_lm, threshold = sklearn.metrics.roc_curve(label, y)"
   ]
  },
  {
   "cell_type": "code",
   "execution_count": 57,
   "metadata": {},
   "outputs": [
    {
     "data": {
      "image/png": "[encoded data removed]",
      "text/plain": [
       "<Figure size 432x288 with 1 Axes>"
      ]
     },
     "metadata": {
      "image/png": {
       "height": 277,
       "width": 385
      },
      "needs_background": "light"
     },
     "output_type": "display_data"
    }
   ],
   "source": [
    "plt.title('ROC curve')\n",
    "plt.plot([0, 1], [0, 1], 'k--')\n",
    "plt.plot(fpr_rt_lm, tpr_rt_lm, label='RT + LR')\n",
    "plt.xlabel('False positive rate')\n",
    "plt.ylabel('True positive rate')\n",
    "plt.show()"
   ]
  },
  {
   "cell_type": "code",
   "execution_count": 58,
   "metadata": {},
   "outputs": [
    {
     "data": {
      "text/plain": [
       "array([1.92786945e+00, 9.27869448e-01, 6.54869359e-01, 6.24660722e-01,\n",
       "       6.06129145e-01, 5.46014593e-01, 5.40930312e-01, 4.96479987e-01,\n",
       "       4.70102689e-01, 4.46534490e-01, 4.38180066e-01, 4.36009140e-01,\n",
       "       4.35228141e-01, 4.33587073e-01, 4.05699228e-01, 4.00150143e-01,\n",
       "       3.99553643e-01, 3.95092962e-01, 3.94188506e-01, 3.86530019e-01,\n",
       "       3.71610524e-01, 3.71522215e-01, 3.64718370e-01, 3.60681560e-01,\n",
       "       3.60271204e-01, 3.58794364e-01, 3.50182119e-01, 3.44274424e-01,\n",
       "       3.35477978e-01, 3.25658368e-01, 3.23764636e-01, 3.13978077e-01,\n",
       "       3.06808731e-01, 2.86250320e-01, 2.71958817e-01, 2.66002765e-01,\n",
       "       2.38993907e-01, 2.29670086e-01, 2.24993226e-01, 2.24310278e-01,\n",
       "       2.15762025e-01, 2.03149918e-01, 1.86872210e-01, 1.17965812e-01,\n",
       "       1.14345929e-01, 9.84849987e-02, 9.68694090e-02, 8.46995570e-02,\n",
       "       8.44536345e-02, 8.37289527e-02, 8.35068844e-02, 7.10337416e-02,\n",
       "       7.09721409e-02, 6.79159416e-02, 6.79105975e-02, 6.70419035e-02,\n",
       "       6.69816178e-02, 6.27227764e-02, 5.72508077e-02, 4.61828830e-02,\n",
       "       5.65039357e-04])"
      ]
     },
     "execution_count": 58,
     "metadata": {},
     "output_type": "execute_result"
    }
   ],
   "source": [
    "threshold"
   ]
  },
  {
   "cell_type": "markdown",
   "metadata": {},
   "source": [
    "### Simple graphing "
   ]
  },
  {
   "cell_type": "code",
   "execution_count": 59,
   "metadata": {},
   "outputs": [],
   "source": [
    "def getIndex(a, num):\n",
    "    ret = []\n",
    "    for i in range(len(a)):\n",
    "        if a[i]==num:\n",
    "            ret.append(i)\n",
    "    return ret"
   ]
  },
  {
   "cell_type": "code",
   "execution_count": 60,
   "metadata": {},
   "outputs": [],
   "source": [
    "#RUN 317296\n",
    "specific = false_positive[-4]\n",
    "specific_hist = with_perturb[specific]"
   ]
  },
  {
   "cell_type": "code",
   "execution_count": 61,
   "metadata": {},
   "outputs": [
    {
     "data": {
      "text/plain": [
       "(array([4.0000e+00, 1.1000e+02, 1.2600e+03, 3.7680e+03, 9.6130e+03,\n",
       "        1.5117e+04, 1.8057e+04, 1.9133e+04, 1.8547e+04, 1.7209e+04,\n",
       "        1.5373e+04, 1.3239e+04, 1.0941e+04, 9.0320e+03, 7.0050e+03,\n",
       "        5.6310e+03, 4.3070e+03, 3.5010e+03, 2.6130e+03, 2.0860e+03,\n",
       "        1.6420e+03, 1.2170e+03, 8.4300e+02, 7.3100e+02, 5.3500e+02,\n",
       "        4.4700e+02], dtype=float32),\n",
       " array([-0.5,  0.5,  1.5,  2.5,  3.5,  4.5,  5.5,  6.5,  7.5,  8.5,  9.5,\n",
       "        10.5, 11.5, 12.5, 13.5, 14.5, 15.5, 16.5, 17.5, 18.5, 19.5, 20.5,\n",
       "        21.5, 22.5, 23.5, 24.5, 25.5]))"
      ]
     },
     "execution_count": 61,
     "metadata": {},
     "output_type": "execute_result"
    }
   ],
   "source": [
    "specific_hist"
   ]
  },
  {
   "cell_type": "code",
   "execution_count": 62,
   "metadata": {},
   "outputs": [
    {
     "data": {
      "text/plain": [
       "<BarContainer object of 26 artists>"
      ]
     },
     "execution_count": 62,
     "metadata": {},
     "output_type": "execute_result"
    },
    {
     "data": {
      "image/png": "[encoded data removed]",
      "text/plain": [
       "<Figure size 432x288 with 1 Axes>"
      ]
     },
     "metadata": {
      "image/png": {
       "height": 251,
       "width": 388
      },
      "needs_background": "light"
     },
     "output_type": "display_data"
    }
   ],
   "source": [
    "a= specific_hist[0]\n",
    "b= specific_hist[1][:-1]\n",
    "plt.bar(b,a)"
   ]
  },
  {
   "cell_type": "markdown",
   "metadata": {},
   "source": [
    "## Also Tested Anomaly From Original Data Without Transformation"
   ]
  },
  {
   "cell_type": "code",
   "execution_count": 63,
   "metadata": {},
   "outputs": [],
   "source": [
    "results_original = []\n",
    "runs_original = []\n",
    "original = []\n",
    "for i in range(len(hists_validate)):\n",
    "    n = hists_validate[i]\n",
    "    if HistogramIntegral(n)==0:\n",
    "        continue\n",
    "    original.append(n)\n",
    "    norm = np.multiply(n,1/HistogramIntegral(n))\n",
    "    x = norm[0]\n",
    "    #y = perturb_abnormal(norm)[0]\n",
    "    n_components=3\n",
    "    sse1, x1 = PCATest(x, pca_obj, n_components)\n",
    "    results_original.append(sse1)\n",
    "   # sse2, x2 = PCATest(y, pca_obj, n_components)\n",
    "    #norm_with_perturb.append(y)\n",
    "    #results_original.append(sse2)\n",
    "    runs_original.append(runs_validate[i])"
   ]
  },
  {
   "cell_type": "code",
   "execution_count": 64,
   "metadata": {},
   "outputs": [],
   "source": [
    "original_sum = []\n",
    "for n in original:\n",
    "    original_sum.append(sum(n[0]))"
   ]
  },
  {
   "cell_type": "code",
   "execution_count": 65,
   "metadata": {},
   "outputs": [],
   "source": [
    "validate__original = []\n",
    "for n in results_original:\n",
    "    if n<0.05:\n",
    "        validate__original.append(1)\n",
    "    else:\n",
    "        validate__original.append(0)"
   ]
  },
  {
   "cell_type": "code",
   "execution_count": 66,
   "metadata": {},
   "outputs": [
    {
     "data": {
      "text/plain": [
       "522"
      ]
     },
     "execution_count": 66,
     "metadata": {},
     "output_type": "execute_result"
    }
   ],
   "source": [
    "sum(validate__original)"
   ]
  },
  {
   "cell_type": "code",
   "execution_count": 67,
   "metadata": {},
   "outputs": [
    {
     "data": {
      "text/plain": [
       "596"
      ]
     },
     "execution_count": 67,
     "metadata": {},
     "output_type": "execute_result"
    }
   ],
   "source": [
    "len(validate__original)"
   ]
  },
  {
   "cell_type": "code",
   "execution_count": 68,
   "metadata": {},
   "outputs": [
    {
     "data": {
      "text/plain": [
       "596"
      ]
     },
     "execution_count": 68,
     "metadata": {},
     "output_type": "execute_result"
    }
   ],
   "source": [
    "len(runs_original)"
   ]
  },
  {
   "cell_type": "code",
   "execution_count": 69,
   "metadata": {},
   "outputs": [],
   "source": [
    "original_positive = getIndex(validate__original,0)"
   ]
  },
  {
   "cell_type": "code",
   "execution_count": 70,
   "metadata": {},
   "outputs": [],
   "source": [
    "runs_original = np.array(runs_original)\n",
    "positive_runs = runs_original[original_positive]"
   ]
  },
  {
   "cell_type": "code",
   "execution_count": 71,
   "metadata": {},
   "outputs": [
    {
     "data": {
      "text/plain": [
       "array([320500, 320571, 320612, 320617, 320654, 321078, 321123, 321323,\n",
       "       321383, 321386, 321388, 321586, 321607, 321665, 321683, 321728,\n",
       "       321729, 321731, 321819, 321949, 321959, 322012, 322049, 322339,\n",
       "       322483, 322484, 322485, 322487, 322672, 322702, 322707, 322709,\n",
       "       323292, 323318, 323327, 323328, 323336, 323344, 323345, 323347,\n",
       "       323348, 323349, 323413, 323558, 323560, 323652, 323653, 323716,\n",
       "       323825, 324089, 324131, 324161, 324162, 324163, 324200, 324393,\n",
       "       324408, 324432, 324564, 324571, 324645, 324818, 324967, 325065,\n",
       "       325175, 315258, 315788, 315789, 316112, 316456, 316664, 317088,\n",
       "       318944, 319310])"
      ]
     },
     "execution_count": 71,
     "metadata": {},
     "output_type": "execute_result"
    }
   ],
   "source": [
    "positive_runs"
   ]
  },
  {
   "cell_type": "code",
   "execution_count": 72,
   "metadata": {},
   "outputs": [],
   "source": [
    "original_sum = np.array(original_sum)\n",
    "original_positive_sum = original_sum[original_positive]"
   ]
  },
  {
   "cell_type": "code",
   "execution_count": 73,
   "metadata": {},
   "outputs": [
    {
     "data": {
      "text/plain": [
       "array([6.790e+02, 2.110e+02, 2.000e+00, 4.400e+01, 2.400e+01, 1.100e+01,\n",
       "       1.140e+02, 1.200e+01, 8.000e+00, 6.000e+00, 7.000e+00, 1.500e+01,\n",
       "       3.000e+00, 1.000e+00, 1.600e+01, 9.000e+00, 1.510e+02, 1.000e+00,\n",
       "       2.000e+00, 6.000e+00, 1.000e+00, 1.200e+01, 8.000e+00, 4.000e+00,\n",
       "       1.000e+00, 2.000e+00, 1.000e+00, 1.500e+01, 1.000e+00, 3.700e+01,\n",
       "       1.280e+02, 4.000e+00, 2.500e+01, 3.000e+01, 4.000e+00, 6.000e+01,\n",
       "       3.200e+01, 1.000e+00, 2.100e+01, 7.000e+00, 2.000e+00, 3.000e+00,\n",
       "       1.900e+01, 2.000e+00, 7.000e+00, 1.000e+00, 2.000e+00, 5.000e+00,\n",
       "       3.000e+00, 7.000e+00, 1.100e+01, 2.000e+00, 2.000e+00, 1.100e+01,\n",
       "       8.000e+00, 3.000e+00, 8.000e+00, 3.400e+01, 2.070e+02, 1.380e+02,\n",
       "       1.000e+00, 1.000e+00, 3.000e+00, 4.000e+00, 1.690e+02, 3.050e+02,\n",
       "       1.000e+00, 2.000e+00, 1.000e+00, 4.751e+03, 7.200e+01, 1.250e+02,\n",
       "       3.000e+00, 6.600e+01])"
      ]
     },
     "execution_count": 73,
     "metadata": {},
     "output_type": "execute_result"
    }
   ],
   "source": [
    "original_positive_sum"
   ]
  }
 ],
 "metadata": {
  "kernelspec": {
   "display_name": "Python 3",
   "language": "python",
   "name": "python3"
  },
  "language_info": {
   "codemirror_mode": {
    "name": "ipython",
    "version": 3
   },
   "file_extension": ".py",
   "mimetype": "text/x-python",
   "name": "python",
   "nbconvert_exporter": "python",
   "pygments_lexer": "ipython3",
   "version": "3.7.6"
  }
 },
 "nbformat": 4,
 "nbformat_minor": 4
}
